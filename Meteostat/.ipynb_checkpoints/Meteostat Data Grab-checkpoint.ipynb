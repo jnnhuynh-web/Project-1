{
 "cells": [
  {
   "cell_type": "code",
   "execution_count": 1,
   "metadata": {},
   "outputs": [],
   "source": [
    "%matplotlib\n",
    "import pandas as pd\n",
    "import matplotlib.pyplot as plt\n",
    "import numpy as np\n",
    "import requests\n",
    "import os\n",
    "from config import key\n",
    "\n",
    "csv = pd.read_csv('stations.csv')"
   ]
  },
  {
   "cell_type": "code",
   "execution_count": 6,
   "metadata": {},
   "outputs": [],
   "source": [
    "version = 'v1'\n",
    "package = ['history','stations']\n",
    "\n",
    "city = 'Toronto'\n",
    "country = 'Canada'\n",
    "\n",
    "start_date_daily = '2007-01-01'\n",
    "end_date_daily = '2019-01-01'\n",
    "\n",
    "start_date_month = '2007-01'\n",
    "end_date_month = '2018-12'\n",
    "\n",
    "#station it is for Toronto City\n",
    "station_id = '71508'\n",
    "\n",
    "#url structure = https://api.meteostat.net/{VERSION}/{PACKAGE}/{METHOD}?{PARAMETERS}\n",
    "#https://api.meteostat.net/v1/history/hourly?station=03772&start=2019-05-02&end=2019-05-11&time_zone=Europe/London&time_format=Y-m-d%20H:i&key=XXXXXXXX\n",
    "#https://api.meteostat.net/v1/history/daily?station=10637&start=2017-01-01&end=2017-12-31&key=XXXXXXXX\n",
    "\n",
    "historyparams_daily ={\n",
    "    'start':start_date_daily,\n",
    "    'end':end_date_daily,\n",
    "    'key':key\n",
    "    }\n",
    "\n",
    "historyparams_monthly ={\n",
    "    'start':start_date_month,\n",
    "    'end':end_date_month,\n",
    "    'key':key\n",
    "    }\n",
    "\n",
    "#method includes: daily, monthly\n",
    "qry_daily_url = f'https://api.meteostat.net/v1/history/daily?station={station_id}'\n",
    "qry_monthly_url = f'https://api.meteostat.net/v1/history/monthly?station={station_id}'\n",
    "\n",
    "#get request for history\n",
    "history_monthly = requests.get(qry_monthly_url,params=historyparams_monthly).json()\n",
    "#history_daily = requests.get(qry_daily_url,params=historyparams_daily).json()\n",
    "#history_daily"
   ]
  },
  {
   "cell_type": "code",
   "execution_count": 7,
   "metadata": {},
   "outputs": [],
   "source": [
    "#THIS IS FOR MONTHLY\n",
    "date_monthly = history_monthly['data'][0]['month']\n",
    "temp_mean_monthly = history_monthly['data'][0]['temperature_mean']\n",
    "temp_mean_min_monthly = history_monthly['data'][0]['temperature_mean_min']\n",
    "temp_mean_max_monthly = history_monthly['data'][0]['temperature_mean_max']\n",
    "temp_min_monthly = history_monthly['data'][0]['temperature_min']\n",
    "temp_max_monthly = history_monthly['data'][0]['temperature_max']\n",
    "precipitation_monthly = history_monthly['data'][0]['precipitation']\n",
    "raindays_monthly = history_monthly['data'][0]['raindays']\n",
    "pressure_monthly = history_monthly['data'][0]['pressure']\n",
    "sunshine_monthly = history_monthly['data'][0]['sunshine']\n",
    "\n",
    "# THIS IS FOR DAILY\n",
    "date_daily = history_daily['data'][0]['date']\n",
    "temp_daily = history_daily['data'][0]['temperature']\n",
    "temp_min_daily = history_daily['data'][0]['temperature_min']\n",
    "temp_max_daily = history_daily['data'][0]['temperature_max']\n",
    "precip_daily = history_daily['data'][0]['precipitation']\n",
    "snowfall_daily = history_daily['data'][0]['snowfall']\n",
    "snowdepth_daily = history_daily['data'][0]['snowdepth']\n",
    "wind_dir_daily = history_daily['data'][0]['winddirection']\n",
    "wind_speed_daily = history_daily['data'][0]['windspeed']\n",
    "peakgust_daily = history_daily['data'][0]['peakgust']\n",
    "sunshine_daily = history_daily['data'][0]['sunshine']\n",
    "pressure_daily = history_daily['data'][0]['pressure']"
   ]
  },
  {
   "cell_type": "code",
   "execution_count": 8,
   "metadata": {},
   "outputs": [
    {
     "name": "stdout",
     "output_type": "stream",
     "text": [
      "144,144,144,144,144,144,144,144,144,144,144\n"
     ]
    }
   ],
   "source": [
    "date_ls = []\n",
    "temp_mean_ls = []\n",
    "temp_mean_min_ls = []\n",
    "temp_mean_max_ls = []\n",
    "temp_min_ls = []\n",
    "temp_max_ls = []\n",
    "precipitation_ls = []\n",
    "raindays_ls = []\n",
    "pressure_ls = []\n",
    "sunshine_ls = []\n",
    "\n",
    "for x in range(len(history_monthly[\"data\"])):\n",
    "    date_ls.append(history_monthly['data'][x]['month'])\n",
    "    temp_mean_ls.append(history_monthly['data'][x]['temperature_mean'])\n",
    "    temp_mean_min_ls.append(history_monthly['data'][x]['temperature_mean_max'])\n",
    "    temp_mean_max_ls.append(history_monthly['data'][x]['temperature_mean_min'])\n",
    "    temp_min_ls.append(history_monthly['data'][x]['temperature_min'])\n",
    "    temp_max_ls.append(history_monthly['data'][x]['temperature_max'])\n",
    "    precipitation_ls.append(history_monthly['data'][x]['precipitation'])\n",
    "    raindays_ls.append(history_monthly['data'][x]['raindays'])\n",
    "    pressure_ls.append(history_monthly['data'][x]['pressure'])\n",
    "    sunshine_ls.append(history_monthly['data'][x]['sunshine'])\n",
    "    \n",
    "print(f\"{len(date_ls)},{len(temp_mean_ls)},{len(temp_mean_ls)},{len(temp_mean_min_ls)},{len(temp_mean_max_ls)},{len(temp_min_ls)},{len(temp_max_ls)},{len(precipitation_ls)},{len(raindays_ls)},{len(pressure_ls)},{len(sunshine_ls)}\")"
   ]
  },
  {
   "cell_type": "code",
   "execution_count": 9,
   "metadata": {},
   "outputs": [
    {
     "data": {
      "text/html": [
       "<div>\n",
       "<style scoped>\n",
       "    .dataframe tbody tr th:only-of-type {\n",
       "        vertical-align: middle;\n",
       "    }\n",
       "\n",
       "    .dataframe tbody tr th {\n",
       "        vertical-align: top;\n",
       "    }\n",
       "\n",
       "    .dataframe thead th {\n",
       "        text-align: right;\n",
       "    }\n",
       "</style>\n",
       "<table border=\"1\" class=\"dataframe\">\n",
       "  <thead>\n",
       "    <tr style=\"text-align: right;\">\n",
       "      <th></th>\n",
       "      <th>0</th>\n",
       "      <th>tempMean</th>\n",
       "      <th>tempMeanMin</th>\n",
       "      <th>tempMeanMax</th>\n",
       "      <th>tempMin</th>\n",
       "      <th>tempMax</th>\n",
       "      <th>precip</th>\n",
       "      <th>rainDays</th>\n",
       "      <th>pressure</th>\n",
       "      <th>sunshine</th>\n",
       "    </tr>\n",
       "  </thead>\n",
       "  <tbody>\n",
       "    <tr>\n",
       "      <th>0</th>\n",
       "      <td>2007-01</td>\n",
       "      <td>-1.7</td>\n",
       "      <td>1.4</td>\n",
       "      <td>-4.7</td>\n",
       "      <td>-15.8</td>\n",
       "      <td>11.9</td>\n",
       "      <td>40.0</td>\n",
       "      <td>10.0</td>\n",
       "      <td>1016.9</td>\n",
       "      <td>NaN</td>\n",
       "    </tr>\n",
       "    <tr>\n",
       "      <th>1</th>\n",
       "      <td>2007-02</td>\n",
       "      <td>-6.9</td>\n",
       "      <td>-3.4</td>\n",
       "      <td>-10.2</td>\n",
       "      <td>-18.5</td>\n",
       "      <td>5.9</td>\n",
       "      <td>26.0</td>\n",
       "      <td>6.0</td>\n",
       "      <td>1015.6</td>\n",
       "      <td>NaN</td>\n",
       "    </tr>\n",
       "    <tr>\n",
       "      <th>2</th>\n",
       "      <td>2007-03</td>\n",
       "      <td>1.5</td>\n",
       "      <td>5.1</td>\n",
       "      <td>-2.2</td>\n",
       "      <td>-20.9</td>\n",
       "      <td>16.9</td>\n",
       "      <td>44.0</td>\n",
       "      <td>7.0</td>\n",
       "      <td>1021.8</td>\n",
       "      <td>NaN</td>\n",
       "    </tr>\n",
       "    <tr>\n",
       "      <th>3</th>\n",
       "      <td>2007-04</td>\n",
       "      <td>6.9</td>\n",
       "      <td>10.3</td>\n",
       "      <td>3.6</td>\n",
       "      <td>-6.0</td>\n",
       "      <td>22.8</td>\n",
       "      <td>39.0</td>\n",
       "      <td>9.0</td>\n",
       "      <td>1013.2</td>\n",
       "      <td>NaN</td>\n",
       "    </tr>\n",
       "    <tr>\n",
       "      <th>4</th>\n",
       "      <td>2007-05</td>\n",
       "      <td>15.1</td>\n",
       "      <td>19.9</td>\n",
       "      <td>10.3</td>\n",
       "      <td>6.0</td>\n",
       "      <td>30.1</td>\n",
       "      <td>53.0</td>\n",
       "      <td>5.0</td>\n",
       "      <td>1020.0</td>\n",
       "      <td>NaN</td>\n",
       "    </tr>\n",
       "  </tbody>\n",
       "</table>\n",
       "</div>"
      ],
      "text/plain": [
       "         0  tempMean  tempMeanMin  tempMeanMax  tempMin  tempMax  precip  \\\n",
       "0  2007-01      -1.7          1.4         -4.7    -15.8     11.9    40.0   \n",
       "1  2007-02      -6.9         -3.4        -10.2    -18.5      5.9    26.0   \n",
       "2  2007-03       1.5          5.1         -2.2    -20.9     16.9    44.0   \n",
       "3  2007-04       6.9         10.3          3.6     -6.0     22.8    39.0   \n",
       "4  2007-05      15.1         19.9         10.3      6.0     30.1    53.0   \n",
       "\n",
       "   rainDays  pressure  sunshine  \n",
       "0      10.0    1016.9       NaN  \n",
       "1       6.0    1015.6       NaN  \n",
       "2       7.0    1021.8       NaN  \n",
       "3       9.0    1013.2       NaN  \n",
       "4       5.0    1020.0       NaN  "
      ]
     },
     "execution_count": 9,
     "metadata": {},
     "output_type": "execute_result"
    }
   ],
   "source": [
    "df = pd.DataFrame(date_ls).replace({\"none\":\"0\"}).rename(columns={\"0\":\"date\"})\n",
    "df['tempMean'] = temp_mean_ls\n",
    "df['tempMeanMin'] = temp_mean_min_ls\n",
    "df['tempMeanMax'] =temp_mean_max_ls\n",
    "df['tempMin'] =temp_min_ls\n",
    "df['tempMax'] = temp_max_ls\n",
    "df['precip'] = precipitation_ls\n",
    "df['rainDays'] = raindays_ls\n",
    "df['pressure'] = pressure_ls\n",
    "df['sunshine'] = sunshine_ls\n",
    "    \n",
    "df.head()"
   ]
  },
  {
   "cell_type": "code",
   "execution_count": null,
   "metadata": {},
   "outputs": [],
   "source": [
    "df.describe()"
   ]
  },
  {
   "cell_type": "code",
   "execution_count": null,
   "metadata": {},
   "outputs": [],
   "source": [
    "# GOOD CODE ENDS HERE"
   ]
  },
  {
   "cell_type": "code",
   "execution_count": 57,
   "metadata": {},
   "outputs": [],
   "source": [
    "#rename first column to date\n",
    "df = df.rename(columns={0:'date'})"
   ]
  },
  {
   "cell_type": "code",
   "execution_count": 58,
   "metadata": {},
   "outputs": [
    {
     "data": {
      "text/html": [
       "<div>\n",
       "<style scoped>\n",
       "    .dataframe tbody tr th:only-of-type {\n",
       "        vertical-align: middle;\n",
       "    }\n",
       "\n",
       "    .dataframe tbody tr th {\n",
       "        vertical-align: top;\n",
       "    }\n",
       "\n",
       "    .dataframe thead th {\n",
       "        text-align: right;\n",
       "    }\n",
       "</style>\n",
       "<table border=\"1\" class=\"dataframe\">\n",
       "  <thead>\n",
       "    <tr style=\"text-align: right;\">\n",
       "      <th></th>\n",
       "      <th>date</th>\n",
       "      <th>tempMean</th>\n",
       "      <th>tempMeanMin</th>\n",
       "      <th>tempMeanMax</th>\n",
       "      <th>tempMin</th>\n",
       "      <th>tempMax</th>\n",
       "      <th>precip</th>\n",
       "      <th>rainDays</th>\n",
       "      <th>pressure</th>\n",
       "      <th>sunshine</th>\n",
       "    </tr>\n",
       "  </thead>\n",
       "  <tbody>\n",
       "    <tr>\n",
       "      <th>0</th>\n",
       "      <td>2007-01-01</td>\n",
       "      <td>-1.7</td>\n",
       "      <td>1.4</td>\n",
       "      <td>-4.7</td>\n",
       "      <td>-15.8</td>\n",
       "      <td>11.9</td>\n",
       "      <td>40.0</td>\n",
       "      <td>10.0</td>\n",
       "      <td>1016.9</td>\n",
       "      <td>NaN</td>\n",
       "    </tr>\n",
       "    <tr>\n",
       "      <th>1</th>\n",
       "      <td>2007-02-01</td>\n",
       "      <td>-6.9</td>\n",
       "      <td>-3.4</td>\n",
       "      <td>-10.2</td>\n",
       "      <td>-18.5</td>\n",
       "      <td>5.9</td>\n",
       "      <td>26.0</td>\n",
       "      <td>6.0</td>\n",
       "      <td>1015.6</td>\n",
       "      <td>NaN</td>\n",
       "    </tr>\n",
       "    <tr>\n",
       "      <th>2</th>\n",
       "      <td>2007-03-01</td>\n",
       "      <td>1.5</td>\n",
       "      <td>5.1</td>\n",
       "      <td>-2.2</td>\n",
       "      <td>-20.9</td>\n",
       "      <td>16.9</td>\n",
       "      <td>44.0</td>\n",
       "      <td>7.0</td>\n",
       "      <td>1021.8</td>\n",
       "      <td>NaN</td>\n",
       "    </tr>\n",
       "    <tr>\n",
       "      <th>3</th>\n",
       "      <td>2007-04-01</td>\n",
       "      <td>6.9</td>\n",
       "      <td>10.3</td>\n",
       "      <td>3.6</td>\n",
       "      <td>-6.0</td>\n",
       "      <td>22.8</td>\n",
       "      <td>39.0</td>\n",
       "      <td>9.0</td>\n",
       "      <td>1013.2</td>\n",
       "      <td>NaN</td>\n",
       "    </tr>\n",
       "    <tr>\n",
       "      <th>4</th>\n",
       "      <td>2007-05-01</td>\n",
       "      <td>15.1</td>\n",
       "      <td>19.9</td>\n",
       "      <td>10.3</td>\n",
       "      <td>6.0</td>\n",
       "      <td>30.1</td>\n",
       "      <td>53.0</td>\n",
       "      <td>5.0</td>\n",
       "      <td>1020.0</td>\n",
       "      <td>NaN</td>\n",
       "    </tr>\n",
       "  </tbody>\n",
       "</table>\n",
       "</div>"
      ],
      "text/plain": [
       "        date  tempMean  tempMeanMin  tempMeanMax  tempMin  tempMax  precip  \\\n",
       "0 2007-01-01      -1.7          1.4         -4.7    -15.8     11.9    40.0   \n",
       "1 2007-02-01      -6.9         -3.4        -10.2    -18.5      5.9    26.0   \n",
       "2 2007-03-01       1.5          5.1         -2.2    -20.9     16.9    44.0   \n",
       "3 2007-04-01       6.9         10.3          3.6     -6.0     22.8    39.0   \n",
       "4 2007-05-01      15.1         19.9         10.3      6.0     30.1    53.0   \n",
       "\n",
       "   rainDays  pressure  sunshine  \n",
       "0      10.0    1016.9       NaN  \n",
       "1       6.0    1015.6       NaN  \n",
       "2       7.0    1021.8       NaN  \n",
       "3       9.0    1013.2       NaN  \n",
       "4       5.0    1020.0       NaN  "
      ]
     },
     "execution_count": 58,
     "metadata": {},
     "output_type": "execute_result"
    }
   ],
   "source": [
    "df.head()"
   ]
  },
  {
   "cell_type": "code",
   "execution_count": 59,
   "metadata": {},
   "outputs": [],
   "source": [
    "#df['date'] = pd.to_datetime(df['date'])"
   ]
  },
  {
   "cell_type": "code",
   "execution_count": 60,
   "metadata": {},
   "outputs": [],
   "source": [
    "x_axis = df['date']"
   ]
  },
  {
   "cell_type": "code",
   "execution_count": 61,
   "metadata": {},
   "outputs": [
    {
     "data": {
      "text/plain": [
       "pandas.core.series.Series"
      ]
     },
     "execution_count": 61,
     "metadata": {},
     "output_type": "execute_result"
    }
   ],
   "source": [
    "type(df['date'])"
   ]
  },
  {
   "cell_type": "code",
   "execution_count": 62,
   "metadata": {},
   "outputs": [
    {
     "data": {
      "text/plain": [
       "pandas.core.series.Series"
      ]
     },
     "execution_count": 62,
     "metadata": {},
     "output_type": "execute_result"
    }
   ],
   "source": [
    "type(x_axis)"
   ]
  },
  {
   "cell_type": "code",
   "execution_count": 63,
   "metadata": {},
   "outputs": [],
   "source": [
    "y_axis = df['tempMean']"
   ]
  },
  {
   "cell_type": "code",
   "execution_count": 78,
   "metadata": {
    "scrolled": true
   },
   "outputs": [
    {
     "data": {
      "image/png": "[encoded data removed]",
      "text/plain": [
       "<Figure size 720x720 with 1 Axes>"
      ]
     },
     "metadata": {
      "needs_background": "light"
     },
     "output_type": "display_data"
    }
   ],
   "source": [
    "#x_ticks =['2007','2008','2009','2010','2011','2012','2013','2014','2015','2016','2017','2018','2019']\n",
    "\n",
    "fig, ax = plt.subplots()\n",
    "\n",
    "\n",
    "ax.plot(x_axis,y_axis,c='red')\n",
    "#ax.scatter(x_axis,y_axis,c='red',s=200)\n",
    "#ax.set_xticks(x_ticks)\n",
    "ax.set_xlim('2005','2020')\n",
    "fig.set_figheight(10)\n",
    "fig.set_figwidth(10)\n",
    "ax.set_title('Average Temperature vs. Time')\n",
    "ax.set_xlabel('Dates')\n",
    "ax.set_ylabel('Temperature (C)')\n",
    "ax.set_facecolor('lightblue')\n",
    "ax.grid(color='white')\n",
    "\n",
    "\n",
    "#plt.show()"
   ]
  },
  {
   "cell_type": "code",
   "execution_count": null,
   "metadata": {},
   "outputs": [],
   "source": []
  },
  {
   "cell_type": "code",
   "execution_count": null,
   "metadata": {},
   "outputs": [],
   "source": []
  },
  {
   "cell_type": "code",
   "execution_count": null,
   "metadata": {},
   "outputs": [],
   "source": []
  },
  {
   "cell_type": "code",
   "execution_count": null,
   "metadata": {},
   "outputs": [],
   "source": []
  },
  {
   "cell_type": "code",
   "execution_count": null,
   "metadata": {},
   "outputs": [],
   "source": []
  },
  {
   "cell_type": "code",
   "execution_count": null,
   "metadata": {},
   "outputs": [],
   "source": []
  },
  {
   "cell_type": "code",
   "execution_count": null,
   "metadata": {},
   "outputs": [],
   "source": []
  },
  {
   "cell_type": "code",
   "execution_count": null,
   "metadata": {},
   "outputs": [],
   "source": []
  },
  {
   "cell_type": "code",
   "execution_count": null,
   "metadata": {},
   "outputs": [],
   "source": []
  },
  {
   "cell_type": "code",
   "execution_count": null,
   "metadata": {},
   "outputs": [],
   "source": []
  },
  {
   "cell_type": "code",
   "execution_count": null,
   "metadata": {},
   "outputs": [],
   "source": []
  },
  {
   "cell_type": "code",
   "execution_count": null,
   "metadata": {},
   "outputs": [],
   "source": [
    "#ROUGH CODE FOLLOWS"
   ]
  },
  {
   "cell_type": "code",
   "execution_count": null,
   "metadata": {},
   "outputs": [],
   "source": [
    "cityparams ={\n",
    "    'q':city,\n",
    "    'key':key\n",
    "    }\n",
    "\n",
    "qry_url_city = 'https://api.meteostat.net/v1/stations/search?'\n",
    "\n",
    "countryparams={\n",
    "    'country':country,\n",
    "    'key':key   \n",
    "    }\n",
    "#response_country = requests.get(qry_url_country).json()\n",
    "qry_url_country = 'https://api.meteostat.net/v1/stations/search?q=CA'\n",
    "\n",
    "#response_country = requests.get(qry_url_country).json()\n",
    "test_url = f'https://api.meteostat.net/v1/stations/search?q={city}&key={key}'"
   ]
  },
  {
   "cell_type": "code",
   "execution_count": null,
   "metadata": {},
   "outputs": [],
   "source": []
  },
  {
   "cell_type": "code",
   "execution_count": null,
   "metadata": {},
   "outputs": [],
   "source": []
  },
  {
   "cell_type": "code",
   "execution_count": null,
   "metadata": {},
   "outputs": [],
   "source": []
  },
  {
   "cell_type": "code",
   "execution_count": null,
   "metadata": {},
   "outputs": [],
   "source": []
  },
  {
   "cell_type": "code",
   "execution_count": null,
   "metadata": {},
   "outputs": [],
   "source": []
  },
  {
   "cell_type": "code",
   "execution_count": null,
   "metadata": {},
   "outputs": [],
   "source": []
  },
  {
   "cell_type": "code",
   "execution_count": null,
   "metadata": {},
   "outputs": [],
   "source": []
  },
  {
   "cell_type": "code",
   "execution_count": null,
   "metadata": {},
   "outputs": [],
   "source": []
  },
  {
   "cell_type": "code",
   "execution_count": null,
   "metadata": {},
   "outputs": [],
   "source": [
    "\n",
    "\n",
    "#for index, row in staging_df.iterrows():\n",
    "#    stationid = row['station_id']\n",
    "#    stationidparams={\n",
    "#    'start':start_date,\n",
    "#    'end':end_date,\n",
    "#    'key':key\n",
    "#    }\n",
    "#    print(f'Processing Record {index} set of | {stationid}')\n",
    "#    response = requests.get(qry_history_url,params=stationidparams).json()\n",
    "    \n",
    "    #try:\n",
    "    #    staging_df['meta_source'] = history['meta']['source']\n",
    "    #except:KeyError\n",
    "    #    print('missing values, i am going to skip it')\n",
    "    #    print('====================================')\n"
   ]
  },
  {
   "cell_type": "code",
   "execution_count": null,
   "metadata": {},
   "outputs": [],
   "source": [
    "csv.head()"
   ]
  },
  {
   "cell_type": "code",
   "execution_count": null,
   "metadata": {},
   "outputs": [],
   "source": [
    "# #station id\n",
    "# station_df = csv['stationid']\n",
    "\n",
    "# #reset index for dataframe\n",
    "# station_df = station_df.reset_index()\n",
    "\n",
    "# station_df.head()"
   ]
  },
  {
   "cell_type": "code",
   "execution_count": null,
   "metadata": {},
   "outputs": [],
   "source": [
    "#stationid = row['stationid']\n",
    "\n",
    "#station\n",
    "\n",
    "stationidparams={\n",
    "    'start':start_date,\n",
    "    'end':end_date,\n",
    "    'key':key\n",
    "    }\n",
    "    #print(f'Processing Record {index} set of | {stationid}')\n",
    "response = requests.get(qry_history_url,params=stationidparams).json()"
   ]
  },
  {
   "cell_type": "code",
   "execution_count": null,
   "metadata": {},
   "outputs": [],
   "source": [
    "stationid = station_df['stationid']"
   ]
  },
  {
   "cell_type": "code",
   "execution_count": null,
   "metadata": {},
   "outputs": [],
   "source": [
    "station_df['stationid']"
   ]
  },
  {
   "cell_type": "code",
   "execution_count": null,
   "metadata": {},
   "outputs": [],
   "source": [
    "#city_df.loc[index,'Cloudiness']=response['clouds']['all']\n",
    "\n",
    "for index, row in staging_df.iterrows():\n",
    "    try:\n",
    "        station_id = row['stationid']\n",
    "        print(station_id)\n",
    "    except:\n",
    "        print('Type error, i am going to skip it')\n",
    "        print('==================================')\n",
    "    #qry_url = f'https://api.meteostat.net/v1/history/daily?station={station_id}'\n",
    "    #stationidparams={\n",
    "    #'start':start_date,\n",
    "    #'end':end_date,\n",
    "    #'key':key\n",
    "    #}\n",
    "    #print(f'Processing Record {index} set of | {station_id}')\n",
    "    #response = requests.get(qry_url,params=stationidparams).json()\n",
    "    #staging_df.loc[index,'meta_source'] = response['meta']['source']\n",
    "    #except:KeyError\n",
    "    #try:\n",
    "        \n",
    "        #print('missing values, i am going to skip it')\n",
    "        #print('====================================')"
   ]
  },
  {
   "cell_type": "code",
   "execution_count": null,
   "metadata": {},
   "outputs": [],
   "source": [
    "station_id"
   ]
  },
  {
   "cell_type": "code",
   "execution_count": null,
   "metadata": {},
   "outputs": [],
   "source": [
    "\n"
   ]
  }
 ],
 "metadata": {
  "kernelspec": {
   "display_name": "Python 3",
   "language": "python",
   "name": "python3"
  },
  "language_info": {
   "codemirror_mode": {
    "name": "ipython",
    "version": 3
   },
   "file_extension": ".py",
   "mimetype": "text/x-python",
   "name": "python",
   "nbconvert_exporter": "python",
   "pygments_lexer": "ipython3",
   "version": "3.7.3"
  }
 },
 "nbformat": 4,
 "nbformat_minor": 2
}
