{
 "cells": [
  {
   "cell_type": "code",
   "execution_count": null,
   "metadata": {},
   "outputs": [],
   "source": []
  },
  {
   "cell_type": "code",
   "execution_count": null,
   "metadata": {},
   "outputs": [],
   "source": [
    "# Everything that follows below belongs in a separate jupyter file. Please scrap.\n",
    "df.head()"
   ]
  },
  {
   "cell_type": "code",
   "execution_count": null,
   "metadata": {},
   "outputs": [],
   "source": [
    "df['date'] = pd.to_datetime(df['date'])"
   ]
  },
  {
   "cell_type": "code",
   "execution_count": null,
   "metadata": {},
   "outputs": [],
   "source": [
    "x_axis = df['date']"
   ]
  },
  {
   "cell_type": "code",
   "execution_count": null,
   "metadata": {},
   "outputs": [],
   "source": [
    "x_axis = df['date']"
   ]
  },
  {
   "cell_type": "code",
   "execution_count": null,
   "metadata": {},
   "outputs": [],
   "source": [
    "type(x_axis)"
   ]
  },
  {
   "cell_type": "code",
   "execution_count": null,
   "metadata": {},
   "outputs": [],
   "source": [
    "y_axis_avgTemp = df['tempMean']\n",
    "y_axis_avgTempMin = df['tempMeanMin']\n",
    "y_axis_avgTempMax = df['tempMeanMax']\n",
    "y_axis_tempMin = df['tempMin']\n",
    "y_axis_tempMax = df['tempMax']\n",
    "#y_axis_avgTempMax = df['tempMeanMax']\n",
    "#y_axis_avgTempMax = df['tempMeanMax']\n",
    "\n",
    "\n",
    "#y_axis_avgTemp = df['tempMean']\n",
    "#y_axis_avgTemp = df['tempMean']\n"
   ]
  },
  {
   "cell_type": "code",
   "execution_count": null,
   "metadata": {},
   "outputs": [],
   "source": [
    "#x_ticks =['2007','2008','2009','2010','2011','2012','2013','2014','2015','2016','2017','2018','2019']\n",
    "\n",
    "fig, ax = plt.subplots()\n",
    "\n",
    "\n",
    "ax.plot(x_axis,y_axis_avgTemp,c='red'm)\n",
    "ax.plot(x_axis,y_axis_avgTempMin,c='green')\n",
    "ax.plot(x_axis,y_axis_avgTempMax,c='purple')\n",
    "ax.plot(x_axis,y_axis_tempMin)\n",
    "ax.plot(x_axis,y_axis_tempMax)\n",
    "#ax.plot(x_axis,)\n",
    "#ax.scatter(x_axis,y_axis,c='red',s=200)\n",
    "#ax.set_xticks()\n",
    "#ax.set_xlim('2005','2020')\n",
    "fig.set_figheight(8)\n",
    "fig.set_figwidth(18)\n",
    "ax.set_title('Average Temperature vs. Time')\n",
    "ax.set_xlabel('Dates')\n",
    "ax.set_ylabel('Temperature (C)')\n",
    "ax.set_facecolor('lightblue')\n",
    "ax.grid(color='white')\n",
    "ax.legend()\n",
    "\n",
    "\n",
    "plt.savefig(os.path.join(f'Test.png'))\n",
    "#plt.show()"
   ]
  },
  {
   "cell_type": "code",
   "execution_count": null,
   "metadata": {},
   "outputs": [],
   "source": []
  },
  {
   "cell_type": "code",
   "execution_count": null,
   "metadata": {},
   "outputs": [],
   "source": []
  },
  {
   "cell_type": "code",
   "execution_count": null,
   "metadata": {},
   "outputs": [],
   "source": []
  }
 ],
 "metadata": {
  "kernelspec": {
   "display_name": "Python 3",
   "language": "python",
   "name": "python3"
  },
  "language_info": {
   "codemirror_mode": {
    "name": "ipython",
    "version": 3
   },
   "file_extension": ".py",
   "mimetype": "text/x-python",
   "name": "python",
   "nbconvert_exporter": "python",
   "pygments_lexer": "ipython3",
   "version": "3.7.3"
  }
 },
 "nbformat": 4,
 "nbformat_minor": 2
}
